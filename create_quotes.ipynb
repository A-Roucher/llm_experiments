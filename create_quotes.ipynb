{
 "cells": [
  {
   "cell_type": "code",
   "execution_count": null,
   "metadata": {},
   "outputs": [],
   "source": [
    "import pandas as pd\n",
    "\n",
    "corpus = pd.read_csv('quotes.csv', quotechar='\"', quoting=0)"
   ]
  },
  {
   "attachments": {},
   "cell_type": "markdown",
   "metadata": {},
   "source": [
    "# 1. Load"
   ]
  },
  {
   "cell_type": "code",
   "execution_count": null,
   "metadata": {},
   "outputs": [],
   "source": [
    "corpus = corpus.loc[corpus['author'].apply(lambda s: (type(s) is str and s[0].isupper()))]"
   ]
  },
  {
   "cell_type": "code",
   "execution_count": null,
   "metadata": {},
   "outputs": [],
   "source": [
    "corpus['author'] = corpus['author'].apply(lambda s: s.replace(', Jr.', ' Jr.'))\n",
    "corpus[['author','work']] = corpus['author'].str.split(',', n=1, expand=True)\n",
    "corpus = corpus.loc[~corpus['author'].apply(lambda s: len(s) > 30)]"
   ]
  },
  {
   "cell_type": "code",
   "execution_count": null,
   "metadata": {},
   "outputs": [],
   "source": [
    "corpus['author'].nunique()"
   ]
  },
  {
   "cell_type": "code",
   "execution_count": null,
   "metadata": {},
   "outputs": [],
   "source": [
    "corpus['author'].value_counts()[:20]"
   ]
  },
  {
   "cell_type": "code",
   "execution_count": null,
   "metadata": {},
   "outputs": [],
   "source": [
    "corpus_classical = pd.read_csv('quotes_all.csv', sep=';')"
   ]
  },
  {
   "cell_type": "code",
   "execution_count": null,
   "metadata": {},
   "outputs": [],
   "source": [
    "corpus_classical = corpus_classical.groupby(['quote'])[['author','category']].agg({'author':'first', 'category':list}).reset_index()"
   ]
  },
  {
   "cell_type": "code",
   "execution_count": null,
   "metadata": {},
   "outputs": [],
   "source": [
    "corpus.loc[(corpus['author'] == 'Victor Hugo')]"
   ]
  },
  {
   "cell_type": "code",
   "execution_count": null,
   "metadata": {},
   "outputs": [],
   "source": [
    "corpus = corpus_classical"
   ]
  },
  {
   "attachments": {},
   "cell_type": "markdown",
   "metadata": {},
   "source": [
    "# 2. Compute"
   ]
  },
  {
   "attachments": {},
   "cell_type": "markdown",
   "metadata": {},
   "source": [
    "### Disambiguate author names"
   ]
  },
  {
   "cell_type": "code",
   "execution_count": null,
   "metadata": {},
   "outputs": [],
   "source": [
    "import textdistance as td\n",
    "from tqdm import tqdm\n",
    "\n",
    "authors = {}\n",
    "for author in tqdm(corpus['author']):\n",
    "    if author not in authors:\n",
    "        for dict_author in authors.keys():\n",
    "            if td.jaccard.normalized_similarity(dict_author,author) > 0.85:\n",
    "                print(author, dict_author)\n",
    "        authors[author] = True\n"
   ]
  },
  {
   "attachments": {},
   "cell_type": "markdown",
   "metadata": {},
   "source": [
    "## Remove profanity"
   ]
  },
  {
   "cell_type": "code",
   "execution_count": null,
   "metadata": {},
   "outputs": [],
   "source": [
    "from profanity_check import predict_prob\n",
    "\n",
    "corpus = corpus.reset_index(drop=True).loc[\n",
    "    ~(\n",
    "        pd.Series(predict_prob(corpus['category'].astype('U').values) > 0.8)\n",
    "        | pd.Series(predict_prob(corpus['category'].astype('U').values) > 0.8)\n",
    "    )\n",
    "]"
   ]
  },
  {
   "attachments": {},
   "cell_type": "markdown",
   "metadata": {},
   "source": [
    "## Filter out recent/unknown authors"
   ]
  },
  {
   "cell_type": "code",
   "execution_count": null,
   "metadata": {},
   "outputs": [],
   "source": [
    "import requests\n",
    "import re\n",
    "from tqdm import tqdm\n",
    "\n",
    "def confirm_birth_year(author_request):\n",
    "    if author_request['title'] != \"Not found.\":\n",
    "        if 'description' in author_request.keys():\n",
    "            date_search = re.search('[0-9]+', author_request['description'])\n",
    "            if date_search is not None:\n",
    "                birth_date = int(date_search.group(0))\n",
    "                if birth_date < 1940:\n",
    "                    return author_request['title'], author_request['description']\n",
    "    return None\n",
    "\n",
    "good_old_authors = {'Anonymous': \"Someone said this one... We don't know who.\"}\n",
    "eliminated_authors = []"
   ]
  },
  {
   "cell_type": "code",
   "execution_count": null,
   "metadata": {},
   "outputs": [],
   "source": [
    "authors = corpus['author'].unique()\n",
    "for author in tqdm(authors):\n",
    "    if author not in good_old_authors and author not in eliminated_authors:\n",
    "        result = None\n",
    "        try:\n",
    "            author_request = requests.get(f'https://en.wikipedia.org/api/rest_v1/page/summary/{author.replace(\" \", \"_\")}', timeout=2).json()\n",
    "            result_tuple = confirm_birth_year(author_request)\n",
    "        except:\n",
    "            print(\"Fail for author\", author)\n",
    "        if result_tuple is None:\n",
    "            eliminated_authors.append(author)\n",
    "        else:\n",
    "            good_old_authors[result_tuple[0]] = result_tuple[1]"
   ]
  },
  {
   "cell_type": "code",
   "execution_count": null,
   "metadata": {},
   "outputs": [],
   "source": [
    "[key for key in good_old_authors.keys() if \"e.\" in key]"
   ]
  },
  {
   "cell_type": "code",
   "execution_count": null,
   "metadata": {},
   "outputs": [],
   "source": [
    "pd.Series(good_old_authors)"
   ]
  },
  {
   "cell_type": "code",
   "execution_count": null,
   "metadata": {},
   "outputs": [],
   "source": [
    "corpus = corpus[corpus['author'].isin(good_old_authors)]"
   ]
  },
  {
   "cell_type": "code",
   "execution_count": null,
   "metadata": {},
   "outputs": [],
   "source": [
    "len(eliminated_authors)"
   ]
  },
  {
   "attachments": {},
   "cell_type": "markdown",
   "metadata": {},
   "source": [
    "# Export"
   ]
  },
  {
   "cell_type": "code",
   "execution_count": null,
   "metadata": {},
   "outputs": [],
   "source": [
    "corpus.to_csv('quotes_classical_clean.csv', sep='|', index=False)"
   ]
  },
  {
   "attachments": {},
   "cell_type": "markdown",
   "metadata": {},
   "source": [
    "# End of notebook"
   ]
  }
 ],
 "metadata": {
  "kernelspec": {
   "display_name": "ml",
   "language": "python",
   "name": "ml"
  },
  "orig_nbformat": 4,
  "vscode": {
   "interpreter": {
    "hash": "916dbcbb3f70747c44a77c7bcd40155683ae19c65e1c03b4aa3499c5328201f1"
   }
  }
 },
 "nbformat": 4,
 "nbformat_minor": 2
}
