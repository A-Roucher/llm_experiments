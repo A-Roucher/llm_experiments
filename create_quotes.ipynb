{
 "cells": [
  {
   "cell_type": "code",
   "execution_count": null,
   "metadata": {},
   "outputs": [],
   "source": [
    "import pandas as pd\n",
    "\n",
    "# Magics\n",
    "%load_ext autoreload\n",
    "%autoreload 2"
   ]
  },
  {
   "attachments": {},
   "cell_type": "markdown",
   "metadata": {},
   "source": [
    "# 1. Load Quotes"
   ]
  },
  {
   "attachments": {},
   "cell_type": "markdown",
   "metadata": {},
   "source": [
    "### Huge base"
   ]
  },
  {
   "cell_type": "code",
   "execution_count": null,
   "metadata": {},
   "outputs": [],
   "source": [
    "corpus = pd.read_csv('quotes.csv', quotechar='\"', quoting=0)\n",
    "corpus = corpus.loc[corpus['author'].apply(lambda s: (type(s) is str and s[0].isupper()))]"
   ]
  },
  {
   "cell_type": "code",
   "execution_count": null,
   "metadata": {},
   "outputs": [],
   "source": [
    "corpus['author'] = corpus['author'].apply(lambda s: s.replace(', Jr.', ' Jr.'))\n",
    "corpus[['author','work']] = corpus['author'].str.split(',', n=1, expand=True)\n",
    "corpus = corpus.loc[~corpus['author'].apply(lambda s: len(s) > 30)]"
   ]
  },
  {
   "cell_type": "code",
   "execution_count": null,
   "metadata": {},
   "outputs": [],
   "source": [
    "corpus['author'].nunique()"
   ]
  },
  {
   "cell_type": "code",
   "execution_count": null,
   "metadata": {},
   "outputs": [],
   "source": [
    "corpus['author'].value_counts()[:20]"
   ]
  },
  {
   "attachments": {},
   "cell_type": "markdown",
   "metadata": {},
   "source": [
    "### Clean, smaller base"
   ]
  },
  {
   "cell_type": "code",
   "execution_count": null,
   "metadata": {},
   "outputs": [],
   "source": [
    "corpus_classical = pd.read_csv('quotes_all.csv', sep=';')"
   ]
  },
  {
   "cell_type": "code",
   "execution_count": null,
   "metadata": {},
   "outputs": [],
   "source": [
    "corpus = corpus_classical.groupby(['quote'])[['author','category']].agg({'author':'first', 'category':list}).reset_index()"
   ]
  },
  {
   "cell_type": "code",
   "execution_count": null,
   "metadata": {},
   "outputs": [],
   "source": [
    "corpus.loc[(corpus['author'] == 'Antoine de Saint-Exupéry')].head()"
   ]
  },
  {
   "attachments": {},
   "cell_type": "markdown",
   "metadata": {},
   "source": [
    "### Disambiguate author names"
   ]
  },
  {
   "cell_type": "code",
   "execution_count": null,
   "metadata": {},
   "outputs": [],
   "source": [
    "# import scripts\n",
    "\n",
    "# deambiguate_authors(corpus[\"authors\"])"
   ]
  },
  {
   "attachments": {},
   "cell_type": "markdown",
   "metadata": {},
   "source": [
    "## Remove profanity"
   ]
  },
  {
   "cell_type": "code",
   "execution_count": null,
   "metadata": {},
   "outputs": [],
   "source": [
    "from profanity_check import predict_prob\n",
    "\n",
    "corpus = corpus.reset_index(drop=True).loc[\n",
    "    ~(\n",
    "        pd.Series(predict_prob(corpus['category'].astype('U').values) > 0.8)\n",
    "        | pd.Series(predict_prob(corpus['category'].astype('U').values) > 0.8)\n",
    "    )\n",
    "]"
   ]
  },
  {
   "cell_type": "code",
   "execution_count": null,
   "metadata": {},
   "outputs": [],
   "source": [
    "corpus.to_csv('clean_quotes.csv', sep='|')"
   ]
  },
  {
   "attachments": {},
   "cell_type": "markdown",
   "metadata": {},
   "source": [
    "# 2. Authors\n",
    "### Filter out recent/unknown authors"
   ]
  },
  {
   "cell_type": "code",
   "execution_count": null,
   "metadata": {},
   "outputs": [],
   "source": [
    "from tqdm import tqdm\n",
    "\n",
    "authors = corpus[\"author\"].unique()\n",
    "\n",
    "results = []\n",
    "deambiguate_names = {\"Anonymous\": \"Anonymous\"}\n",
    "eliminated_authors = []"
   ]
  },
  {
   "cell_type": "code",
   "execution_count": null,
   "metadata": {},
   "outputs": [],
   "source": [
    "# authors = ['Antoine de Rivarol', 'Antoine de Saint-Exupéry']"
   ]
  },
  {
   "cell_type": "code",
   "execution_count": null,
   "metadata": {},
   "outputs": [],
   "source": [
    "from scripts import return_author_results\n",
    "\n",
    "for author in (pbar:=tqdm(authors)):\n",
    "    pbar.set_description(author)\n",
    "    if author not in deambiguate_names and author not in eliminated_authors:\n",
    "        author_results = None\n",
    "        try:\n",
    "            print(\"OKOK\")\n",
    "            author_results = return_author_results(author)\n",
    "        except:\n",
    "            print(\"fail\", author)\n",
    "        if author_results is None:\n",
    "            eliminated_authors.append(author)\n",
    "        else:\n",
    "            name, description, extract_html, thumbnail_url = author_results\n",
    "            deambiguate_names[author] = name\n",
    "            results.append([name, description, extract_html, thumbnail_url])"
   ]
  },
  {
   "cell_type": "code",
   "execution_count": null,
   "metadata": {},
   "outputs": [],
   "source": [
    "def turn_into_dict(row):\n",
    "    return {\n",
    "        \"name\": row[0],\n",
    "        \"description\": row[1],\n",
    "        \"extract_html\": row[2],\n",
    "        \"thumbnail_url\": row[3],\n",
    "    }\n",
    "\n",
    "results_dicts = [turn_into_dict(row) for row in results]\n",
    "results_df = pd.DataFrame(results_dicts)"
   ]
  },
  {
   "cell_type": "code",
   "execution_count": null,
   "metadata": {},
   "outputs": [],
   "source": [
    "eliminated_authors = [i for i in eliminated_authors if i != \"Queen Victoria\" and i!= 'Maria Callas']"
   ]
  },
  {
   "cell_type": "code",
   "execution_count": null,
   "metadata": {},
   "outputs": [],
   "source": [
    "results_df.to_csv('output/authors.csv', sep='|', index=False)"
   ]
  },
  {
   "cell_type": "code",
   "execution_count": null,
   "metadata": {},
   "outputs": [],
   "source": [
    "corpus = corpus[corpus['author'].isin(good_old_authors)]"
   ]
  },
  {
   "attachments": {},
   "cell_type": "markdown",
   "metadata": {},
   "source": [
    "# Export"
   ]
  },
  {
   "attachments": {},
   "cell_type": "markdown",
   "metadata": {},
   "source": [
    "### Export authors table"
   ]
  },
  {
   "cell_type": "code",
   "execution_count": null,
   "metadata": {},
   "outputs": [],
   "source": [
    "results_df = pd.read_csv('output/authors.csv', sep='|')"
   ]
  },
  {
   "cell_type": "code",
   "execution_count": null,
   "metadata": {},
   "outputs": [],
   "source": [
    "results_df.to_csv('output/results_sep.csv', sep='|', index=False)"
   ]
  },
  {
   "cell_type": "code",
   "execution_count": null,
   "metadata": {},
   "outputs": [],
   "source": [
    "corpus.to_csv('quotes_classical_clean.csv', sep='|', index=False)"
   ]
  },
  {
   "attachments": {},
   "cell_type": "markdown",
   "metadata": {},
   "source": [
    "### To SQL"
   ]
  },
  {
   "cell_type": "code",
   "execution_count": null,
   "metadata": {},
   "outputs": [],
   "source": [
    "MAX_DESCRIPTION_LENGTH = 2500\n",
    "\n",
    "from scripts import open_sql_connection\n",
    "\n",
    "conn = open_sql_connection()\n",
    "cursor = conn.cursor()"
   ]
  },
  {
   "cell_type": "code",
   "execution_count": null,
   "metadata": {},
   "outputs": [],
   "source": [
    "sql = '''DROP TABLE authors;'''\n",
    "\n",
    "cursor.execute(sql)\n",
    "\n",
    "sql = f'''CREATE TABLE authors(name varchar(30),\\\n",
    "description varchar(150), extract_html varchar({MAX_DESCRIPTION_LENGTH}), thumbnail_url varchar(600));'''\n",
    "\n",
    "cursor.execute(sql)"
   ]
  },
  {
   "cell_type": "code",
   "execution_count": null,
   "metadata": {},
   "outputs": [],
   "source": [
    "import json\n",
    "results_df['thumbnail_url'] = results_df['thumbnail_url'].apply(lambda s: (s if type(s) == str else ''))\n",
    "# for col in ['thumbnail_url', 'description', 'name', 'extract_html']:\n",
    "#     results_df[col] = results_df[col].apply(lambda s: s.replace(\"'\", \"`\"))\n",
    "results_df.iloc[1].to_dict()"
   ]
  },
  {
   "cell_type": "code",
   "execution_count": null,
   "metadata": {},
   "outputs": [],
   "source": [
    "req = \"INSERT INTO authors(name,description,extract_html,thumbnail_url) VALUES ('Anonymous', 'Someone wrote this, and it seemed important enough to note it.', '', 'https://upload.wikimedia.org/wikipedia/commons/thumb/a/a6/Anonymous_emblem.svg/800px-Anonymous_emblem.svg.png')\"\n",
    "cursor.execute(req)"
   ]
  },
  {
   "cell_type": "code",
   "execution_count": null,
   "metadata": {},
   "outputs": [],
   "source": [
    "from tqdm import tqdm\n",
    "done = []\n",
    "for i, row in tqdm(results_df.iterrows()):\n",
    "    extract_html = row[\"extract_html\"]\n",
    "    if len(extract_html) > MAX_DESCRIPTION_LENGTH:\n",
    "        extract_html = extract_html.split('.')[0] + '</p>'\n",
    "    req = \"\"\"INSERT INTO authors(name,description,extract_html,thumbnail_url)\\\n",
    "        VALUES (%(name)s, %(description)s, %(extract_html)s, %(thumbnail_url)s);\"\"\"\n",
    "    if i not in done:\n",
    "        try:\n",
    "            cursor.execute(req, dict(\n",
    "                name=row[\"name\"],\n",
    "                description=row[\"description\"],\n",
    "                extract_html=extract_html,\n",
    "                thumbnail_url=row[\"thumbnail_url\"],\n",
    "            ))\n",
    "            done.append(i)\n",
    "        except:\n",
    "            print(\"Error on row\", row.to_dict())"
   ]
  },
  {
   "cell_type": "code",
   "execution_count": null,
   "metadata": {},
   "outputs": [],
   "source": [
    "sql3 = '''select * from authors;'''\n",
    "cursor.execute(sql3)\n",
    "authors = []\n",
    "for row in cursor.fetchall():\n",
    "    authors.append(row[0])\n",
    "\n",
    "conn.commit()\n",
    "conn.close()"
   ]
  },
  {
   "cell_type": "code",
   "execution_count": null,
   "metadata": {},
   "outputs": [],
   "source": [
    "[i for i in authors if 'Antoine' in i]"
   ]
  },
  {
   "attachments": {},
   "cell_type": "markdown",
   "metadata": {},
   "source": [
    "# 3. Filter quotes based on authors"
   ]
  },
  {
   "cell_type": "code",
   "execution_count": null,
   "metadata": {},
   "outputs": [],
   "source": [
    "corpus = corpus[corpus[\"author\"].isin(authors)]"
   ]
  },
  {
   "cell_type": "code",
   "execution_count": null,
   "metadata": {},
   "outputs": [],
   "source": [
    "corpus = corpus.reset_index(drop=True).reset_index()"
   ]
  },
  {
   "cell_type": "code",
   "execution_count": null,
   "metadata": {},
   "outputs": [],
   "source": [
    "corpus.to_csv('output/quotes_export.csv', sep='|', index=False)"
   ]
  },
  {
   "cell_type": "code",
   "execution_count": null,
   "metadata": {},
   "outputs": [],
   "source": [
    "corpus.loc[(corpus['author'] == 'Antoine de Rivarol')].head()"
   ]
  },
  {
   "attachments": {},
   "cell_type": "markdown",
   "metadata": {},
   "source": [
    "### Export"
   ]
  },
  {
   "cell_type": "code",
   "execution_count": null,
   "metadata": {},
   "outputs": [],
   "source": [
    "corpus = pd.read_csv('output/quotes_export.csv', sep='|')"
   ]
  },
  {
   "cell_type": "code",
   "execution_count": null,
   "metadata": {},
   "outputs": [],
   "source": [
    "from scripts import open_sql_connection\n",
    "conn = open_sql_connection()\n",
    "cursor = conn.cursor()"
   ]
  },
  {
   "cell_type": "code",
   "execution_count": null,
   "metadata": {},
   "outputs": [],
   "source": [
    "sql = '''DROP TABLE quotes;'''\n",
    "cursor.execute(sql)\n",
    "\n",
    "sql = '''CREATE TABLE quotes(index int, quote varchar(500), author varchar(50));'''\n",
    "cursor.execute(sql)"
   ]
  },
  {
   "cell_type": "code",
   "execution_count": null,
   "metadata": {},
   "outputs": [],
   "source": [
    "sql3 = '''select quote from quotes;'''\n",
    "cursor.execute(sql3)\n",
    "quotes = []\n",
    "for row in cursor.fetchall():\n",
    "    quotes.append(row[0])\n"
   ]
  },
  {
   "cell_type": "code",
   "execution_count": null,
   "metadata": {},
   "outputs": [],
   "source": [
    "from tqdm import tqdm\n",
    "\n",
    "for _, row in tqdm(corpus.iterrows()):\n",
    "    if row[\"quote\"] not in quotes:\n",
    "        req = \"\"\"INSERT INTO quotes(index, quote,author) VALUES (%(index)s, %(quote)s, %(author)s);\"\"\"\n",
    "        cursor.execute(\n",
    "            req,\n",
    "            dict(\n",
    "                index=row[\"index\"], \n",
    "                quote=row[\"quote\"], \n",
    "                author=row[\"author\"]\n",
    "            ),\n",
    "        )"
   ]
  },
  {
   "cell_type": "code",
   "execution_count": null,
   "metadata": {},
   "outputs": [],
   "source": [
    "conn.commit()\n",
    "conn.close()"
   ]
  },
  {
   "attachments": {},
   "cell_type": "markdown",
   "metadata": {},
   "source": [
    "# End of notebook"
   ]
  }
 ],
 "metadata": {
  "kernelspec": {
   "display_name": "nlp",
   "language": "python",
   "name": "python3"
  },
  "language_info": {
   "codemirror_mode": {
    "name": "ipython",
    "version": 3
   },
   "file_extension": ".py",
   "mimetype": "text/x-python",
   "name": "python",
   "nbconvert_exporter": "python",
   "pygments_lexer": "ipython3",
   "version": "3.10.6"
  },
  "orig_nbformat": 4,
  "vscode": {
   "interpreter": {
    "hash": "2a5df2ecd95df6a6700ec1c0760b3adda190b295a130b553616abd2a9f2db829"
   }
  }
 },
 "nbformat": 4,
 "nbformat_minor": 2
}
