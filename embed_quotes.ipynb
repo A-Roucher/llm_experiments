{
 "cells": [
  {
   "cell_type": "code",
   "execution_count": null,
   "metadata": {},
   "outputs": [],
   "source": [
    "import pandas as pd\n",
    "import datasets\n",
    "import numpy as np\n",
    "\n",
    "corpus = pd.read_csv('output/quotes_export_save_28-02.csv', sep='|')\n",
    "corpus_dataset = datasets.Dataset.from_pandas(corpus)"
   ]
  },
  {
   "cell_type": "code",
   "execution_count": null,
   "metadata": {},
   "outputs": [],
   "source": [
    "from sentence_transformers import SentenceTransformer\n",
    "\n",
    "encoder = SentenceTransformer(\"sentence-transformers/all-MiniLM-L6-v2\")\n",
    "embeddings = encoder.encode(\n",
    "    corpus_dataset[\"quote\"],\n",
    "    batch_size=100,\n",
    "    show_progress_bar=True,\n",
    "    convert_to_numpy=True,\n",
    "    normalize_embeddings=True,\n",
    ")"
   ]
  },
  {
   "cell_type": "code",
   "execution_count": null,
   "metadata": {},
   "outputs": [],
   "source": [
    "dataset_embeddings = datasets.Dataset.from_dict(\n",
    "    {\n",
    "        \"embedding\": embeddings,\n",
    "        \"quote\": corpus_dataset[\"quote\"],\n",
    "        \"author\": corpus_dataset[\"author\"],\n",
    "    }\n",
    ")"
   ]
  },
  {
   "cell_type": "code",
   "execution_count": null,
   "metadata": {},
   "outputs": [],
   "source": [
    "dataset_embeddings.save_to_disk('export_dataset')"
   ]
  },
  {
   "cell_type": "code",
   "execution_count": null,
   "metadata": {},
   "outputs": [],
   "source": [
    "import pickle\n",
    "\n",
    "dataset_embeddings = dataset_embeddings.add_faiss_index(column='embedding')\n",
    "dataset_embeddings = dataset_embeddings.remove_columns('embedding')\n",
    "with open('output/dataset_embeddings_28-02.pickle', 'wb') as pkl:\n",
    "    pickle.dump(dataset_embeddings, pkl)"
   ]
  },
  {
   "attachments": {},
   "cell_type": "markdown",
   "metadata": {},
   "source": [
    "# Optional: FAISS index only"
   ]
  },
  {
   "cell_type": "code",
   "execution_count": null,
   "metadata": {},
   "outputs": [],
   "source": [
    "dataset_embeddings = dataset_embeddings.add_faiss_index(column='embedding')"
   ]
  },
  {
   "cell_type": "code",
   "execution_count": null,
   "metadata": {},
   "outputs": [],
   "source": [
    "dataset_embeddings.save_faiss_index('embedding', 'output/index_28-02.faiss')"
   ]
  },
  {
   "cell_type": "code",
   "execution_count": null,
   "metadata": {},
   "outputs": [],
   "source": [
    "import faiss\n",
    "\n",
    "index = faiss.read_index('index_alone.faiss')"
   ]
  },
  {
   "attachments": {},
   "cell_type": "markdown",
   "metadata": {},
   "source": [
    "# Test model"
   ]
  },
  {
   "cell_type": "code",
   "execution_count": null,
   "metadata": {},
   "outputs": [],
   "source": [
    "sentence = \"Knowledge of history is power.\"\n"
   ]
  },
  {
   "cell_type": "code",
   "execution_count": null,
   "metadata": {},
   "outputs": [],
   "source": [
    "sentence_embedding = encoder.encode([sentence])\n",
    "scores, samples = dataset_embeddings.get_nearest_examples('embedding',\n",
    "    sentence_embedding, k=10\n",
    ")\n",
    "samples"
   ]
  },
  {
   "cell_type": "code",
   "execution_count": null,
   "metadata": {},
   "outputs": [],
   "source": [
    "import pickle\n",
    "\n",
    "with open('model.pickle', 'wb') as pkl:\n",
    "    pickle.dump(encoder, pkl)"
   ]
  },
  {
   "attachments": {},
   "cell_type": "markdown",
   "metadata": {},
   "source": [
    "# Tests"
   ]
  },
  {
   "cell_type": "code",
   "execution_count": null,
   "metadata": {},
   "outputs": [],
   "source": [
    "import numpy as np\n",
    "import os\n",
    "import pickle\n",
    "import torch\n",
    "from sentence_transformers import util\n",
    "\n",
    "\n",
    "\n",
    "model = pickle.load(open(\"model.pickle\", \"rb\"))\n",
    "embeddings_dataset = pickle.load(open(\"embeddings_dataset.pickle\", \"rb\"))\n",
    "authors = np.unique(embeddings_dataset[\"author\"])\n",
    "faiss_index = embeddings_dataset.get_index(\"embeddings\").faiss_index\n"
   ]
  },
  {
   "cell_type": "code",
   "execution_count": null,
   "metadata": {},
   "outputs": [],
   "source": [
    "with open('index_only.pickle', 'wb') as pkl:\n",
    "    pickle.dump(faiss_index, pkl)"
   ]
  },
  {
   "cell_type": "code",
   "execution_count": null,
   "metadata": {},
   "outputs": [],
   "source": [
    "embeddings_dataset.drop_index('embeddings')"
   ]
  },
  {
   "cell_type": "code",
   "execution_count": null,
   "metadata": {},
   "outputs": [],
   "source": [
    "embeddings_numpy = np.array(embeddings_dataset[\"embeddings\"]).astype(np.float32)"
   ]
  },
  {
   "cell_type": "code",
   "execution_count": null,
   "metadata": {},
   "outputs": [],
   "source": [
    "with open('embeddings_numpy.pickle', 'wb') as pkl:\n",
    "    pickle.dump(embeddings_numpy, pkl)"
   ]
  },
  {
   "cell_type": "code",
   "execution_count": null,
   "metadata": {},
   "outputs": [],
   "source": [
    "sentence_embedding = model.encode([sentence])"
   ]
  },
  {
   "cell_type": "code",
   "execution_count": null,
   "metadata": {},
   "outputs": [],
   "source": [
    "author_name = 'Victor Hugo'"
   ]
  },
  {
   "cell_type": "code",
   "execution_count": null,
   "metadata": {},
   "outputs": [],
   "source": [
    "from sentence_transformers.util import semantic_search\n",
    "hits = semantic_search(sentence_embedding, dataset_embeddings[author_indexes, :], top_k=5)\n",
    "list_hits = [author_indexes[i['corpus_id']] for i in hits[0]]\n",
    "embeddings_dataset.select([12676, 4967, 2612, 8884, 4797])"
   ]
  },
  {
   "attachments": {},
   "cell_type": "markdown",
   "metadata": {},
   "source": [
    "# End of notebook"
   ]
  }
 ],
 "metadata": {
  "kernelspec": {
   "display_name": "nlp",
   "language": "python",
   "name": "python3"
  },
  "language_info": {
   "codemirror_mode": {
    "name": "ipython",
    "version": 3
   },
   "file_extension": ".py",
   "mimetype": "text/x-python",
   "name": "python",
   "nbconvert_exporter": "python",
   "pygments_lexer": "ipython3",
   "version": "3.10.6"
  },
  "orig_nbformat": 4,
  "vscode": {
   "interpreter": {
    "hash": "2a5df2ecd95df6a6700ec1c0760b3adda190b295a130b553616abd2a9f2db829"
   }
  }
 },
 "nbformat": 4,
 "nbformat_minor": 2
}
