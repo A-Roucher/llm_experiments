{
 "cells": [
  {
   "cell_type": "code",
   "execution_count": null,
   "metadata": {},
   "outputs": [],
   "source": [
    "import pandas as pd\n",
    "\n",
    "corpus = pd.read_csv('quotes_classical_clean.csv', sep='|')"
   ]
  },
  {
   "cell_type": "code",
   "execution_count": null,
   "metadata": {},
   "outputs": [],
   "source": [
    "import datasets\n",
    "\n",
    "corpus_dataset = datasets.Dataset.from_pandas(corpus)"
   ]
  },
  {
   "cell_type": "code",
   "execution_count": null,
   "metadata": {},
   "outputs": [],
   "source": [
    "from sentence_transformers import SentenceTransformer\n",
    "\n",
    "encoder = SentenceTransformer(\"sentence-transformers/all-MiniLM-L6-v2\")\n",
    "embeddings = encoder.encode(\n",
    "    corpus_dataset[\"quote\"],\n",
    "    batch_size=100,\n",
    "    show_progress_bar=True,\n",
    "    convert_to_numpy=True,\n",
    "    normalize_embeddings=True,\n",
    ")"
   ]
  },
  {
   "cell_type": "code",
   "execution_count": null,
   "metadata": {},
   "outputs": [],
   "source": [
    "import numpy as np\n",
    "np.save('embeddings_numpy', embeddings)"
   ]
  },
  {
   "cell_type": "code",
   "execution_count": null,
   "metadata": {},
   "outputs": [],
   "source": [
    "dataset_embeddings = datasets.Dataset.from_dict({\"embeddings\": embeddings})\n",
    "dataset_embeddings.add_faiss_index(column=\"embeddings\")"
   ]
  },
  {
   "cell_type": "code",
   "execution_count": null,
   "metadata": {},
   "outputs": [],
   "source": [
    "import pickle\n",
    "\n",
    "with open('embeddings_with_faiss.pickle', 'wb') as pkl:\n",
    "    pickle.dump(dataset_embeddings, pkl)"
   ]
  },
  {
   "cell_type": "code",
   "execution_count": null,
   "metadata": {},
   "outputs": [],
   "source": [
    "dset_embed = datasets.Dataset.from_dict({\"embeddings\": embeddings})\n",
    "embeddings_dataset = datasets.concatenate_datasets([corpus_dataset, dset_embed], axis=1)\n",
    "embeddings_dataset.add_faiss_index(column=\"embeddings\")"
   ]
  },
  {
   "cell_type": "code",
   "execution_count": null,
   "metadata": {},
   "outputs": [],
   "source": [
    "embeddings_dataset.save_faiss_index('embeddings', 'index_alone.faiss')"
   ]
  },
  {
   "cell_type": "code",
   "execution_count": null,
   "metadata": {},
   "outputs": [],
   "source": [
    "import faiss\n",
    "\n",
    "index = faiss.read_index('index_alone.faiss')"
   ]
  },
  {
   "cell_type": "code",
   "execution_count": null,
   "metadata": {},
   "outputs": [],
   "source": [
    "with open('complete_embeddings_with_faiss.pickle', 'wb') as pkl:\n",
    "    pickle.dump(embeddings_dataset, pkl)"
   ]
  },
  {
   "cell_type": "code",
   "execution_count": null,
   "metadata": {},
   "outputs": [],
   "source": [
    "with open('quotes_alone.pickle', 'wb') as pkl:\n",
    "    pickle.dump(corpus_dataset, pkl)"
   ]
  },
  {
   "cell_type": "code",
   "execution_count": null,
   "metadata": {},
   "outputs": [],
   "source": [
    "sentence = \"Knowledge of history is power.\"\n"
   ]
  },
  {
   "cell_type": "code",
   "execution_count": null,
   "metadata": {},
   "outputs": [],
   "source": [
    "sentence_embedding = encoder.encode([sentence])\n",
    "scores, samples = index.search(\n",
    "    sentence_embedding, k=10\n",
    ")\n",
    "samples"
   ]
  },
  {
   "cell_type": "code",
   "execution_count": null,
   "metadata": {},
   "outputs": [],
   "source": [
    "np.array(embeddings_dataset['quote'])[[9646, 16047,  4890,  4894,  4885,  7535,  9626,  4905,  5076,\n",
    "         4904]]"
   ]
  },
  {
   "cell_type": "code",
   "execution_count": null,
   "metadata": {},
   "outputs": [],
   "source": [
    "import pickle\n",
    "\n",
    "with open('model.pickle', 'wb') as pkl:\n",
    "    pickle.dump(encoder, pkl)\n",
    "with open('embeddings_dataset.pickle', 'wb') as pkl:\n",
    "    pickle.dump(embeddings_dataset, pkl)"
   ]
  },
  {
   "attachments": {},
   "cell_type": "markdown",
   "metadata": {},
   "source": [
    "# Tests"
   ]
  },
  {
   "cell_type": "code",
   "execution_count": null,
   "metadata": {},
   "outputs": [],
   "source": [
    "import numpy as np\n",
    "import os\n",
    "import pickle\n",
    "import torch\n",
    "from sentence_transformers import util\n",
    "\n",
    "\n",
    "\n",
    "model = pickle.load(open(\"model.pickle\", \"rb\"))\n",
    "embeddings_dataset = pickle.load(open(\"embeddings_dataset.pickle\", \"rb\"))\n",
    "authors = np.unique(embeddings_dataset[\"author\"])\n",
    "faiss_index = embeddings_dataset.get_index(\"embeddings\").faiss_index\n"
   ]
  },
  {
   "cell_type": "code",
   "execution_count": null,
   "metadata": {},
   "outputs": [],
   "source": [
    "with open('index_only.pickle', 'wb') as pkl:\n",
    "    pickle.dump(faiss_index, pkl)"
   ]
  },
  {
   "cell_type": "code",
   "execution_count": null,
   "metadata": {},
   "outputs": [],
   "source": [
    "embeddings_dataset.drop_index('embeddings')"
   ]
  },
  {
   "cell_type": "code",
   "execution_count": null,
   "metadata": {},
   "outputs": [],
   "source": [
    "embeddings_numpy = np.array(embeddings_dataset[\"embeddings\"]).astype(np.float32)"
   ]
  },
  {
   "cell_type": "code",
   "execution_count": null,
   "metadata": {},
   "outputs": [],
   "source": [
    "with open('embeddings_numpy.pickle', 'wb') as pkl:\n",
    "    pickle.dump(embeddings_numpy, pkl)"
   ]
  },
  {
   "cell_type": "code",
   "execution_count": null,
   "metadata": {},
   "outputs": [],
   "source": [
    "sentence_embedding = model.encode([sentence])"
   ]
  },
  {
   "cell_type": "code",
   "execution_count": null,
   "metadata": {},
   "outputs": [],
   "source": [
    "author_name = 'Victor Hugo'"
   ]
  },
  {
   "cell_type": "code",
   "execution_count": null,
   "metadata": {},
   "outputs": [],
   "source": [
    "from sentence_transformers.util import semantic_search\n",
    "hits = semantic_search(sentence_embedding, dataset_embeddings[author_indexes, :], top_k=5)\n",
    "list_hits = [author_indexes[i['corpus_id']] for i in hits[0]]\n",
    "embeddings_dataset.select([12676, 4967, 2612, 8884, 4797])"
   ]
  },
  {
   "attachments": {},
   "cell_type": "markdown",
   "metadata": {},
   "source": [
    "# Export"
   ]
  },
  {
   "cell_type": "code",
   "execution_count": null,
   "metadata": {},
   "outputs": [],
   "source": [
    "import psycopg2\n",
    "\n",
    "conn = psycopg2.connect(\n",
    "    database=\"railway\",\n",
    "    user=\"postgres\",\n",
    "    password=\"pG7J4I1bmcHuTXmNVeFC\",\n",
    "    host=\"containers-us-west-127.railway.app\",\n",
    "    port=\"5800\",\n",
    ")\n",
    "\n",
    "\n",
    "conn.autocommit = True\n",
    "cursor = conn.cursor()"
   ]
  },
  {
   "cell_type": "code",
   "execution_count": null,
   "metadata": {},
   "outputs": [],
   "source": [
    "sql = '''CREATE TABLE DETAILS(employee_id int NOT NULL,\\\n",
    "employee_name char(20),\\\n",
    "employee_email varchar(30), employee_salary float);'''\n",
    "  \n",
    "cursor.execute(sql)\n",
    "\n",
    "sql2 = '''COPY details(employee_id,employee_name,\\\n",
    "employee_email,employee_salary)\n",
    "FROM '/private/tmp/details.csv'\n",
    "DELIMITER ','\n",
    "CSV HEADER;'''\n",
    "  \n",
    "cursor.execute(sql2)\n",
    "  \n",
    "sql3 = '''select * from details;'''\n",
    "cursor.execute(sql3)\n",
    "for i in cursor.fetchall():\n",
    "    print(i)\n",
    "  \n",
    "conn.commit()\n",
    "conn.close()"
   ]
  },
  {
   "attachments": {},
   "cell_type": "markdown",
   "metadata": {},
   "source": [
    "# End of notebook"
   ]
  }
 ],
 "metadata": {
  "kernelspec": {
   "display_name": "ml",
   "language": "python",
   "name": "ml"
  },
  "orig_nbformat": 4,
  "vscode": {
   "interpreter": {
    "hash": "916dbcbb3f70747c44a77c7bcd40155683ae19c65e1c03b4aa3499c5328201f1"
   }
  }
 },
 "nbformat": 4,
 "nbformat_minor": 2
}
