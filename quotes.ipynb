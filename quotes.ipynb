{
 "cells": [
  {
   "cell_type": "code",
   "execution_count": 1,
   "metadata": {},
   "outputs": [],
   "source": [
    "%reload_ext dotenv\n",
    "%dotenv\n",
    "\n",
    "\n",
    "\n",
    "import os\n",
    "import re\n",
    "import wget\n",
    "from langchain.text_splitter import SpacyTextSplitter\n",
    "\n",
    "\n",
    "from langchain.agents import load_tools, Tool\n",
    "from langchain.agents import initialize_agent\n",
    "from langchain.embeddings import HuggingFaceEmbeddings\n",
    "from random import sample\n",
    "\n",
    "from langchain.text_splitter import CharacterTextSplitter\n",
    "from langchain.vectorstores import FAISS\n",
    "from langchain.chains.summarize import load_summarize_chain\n",
    "from langchain.chains.question_answering import load_qa_chain\n",
    "\n",
    "from langchain.prompts import PromptTemplate\n",
    "from langchain.docstore.document import Document"
   ]
  },
  {
   "cell_type": "code",
   "execution_count": 11,
   "metadata": {},
   "outputs": [],
   "source": [
    "corpus = [\n",
    "    \"In Copenhagen, there's a long-term commitment to creating a well-functioning pedestrian city where all forms of movement - pedestrian, bicycles, cars, public transportation - are accommodated with equal priority.\",\n",
    "    \"The secret of man's being is not only to live but to have something to live for.\",\n",
    "    \"Do not believe in anything simply because you have heard it. Do not believe in anything simply because it is spoken and rumored by many. Do not believe in anything simply because it is found written in your religious books. Do not believe in anything merely on the authority of your teachers and elders. Do not believe in traditions because they have been handed down for many generations. But after observation and analysis, when you find that anything agrees with reason and is conducive to the goo\",\n",
    "    \"One does not inhabit a country; one inhabits a language. That is our country, our fatherland - and no other.\",\n",
    "    \"Mirth is like a flash of lightning, that breaks through a gloom of clouds, and glitters for a moment; cheerfulness keeps up a kind of daylight in the mind, and fills it with a steady and perpetual serenity.\",\n",
    "]"
   ]
  },
  {
   "cell_type": "code",
   "execution_count": 18,
   "metadata": {},
   "outputs": [
    {
     "data": {
      "text/plain": [
       "['One does not inhabit a country; one inhabits a language. That is our country, our fatherland - and no other.']"
      ]
     },
     "execution_count": 18,
     "metadata": {},
     "output_type": "execute_result"
    }
   ],
   "source": [
    "from tqdm.auto import tqdm\n",
    "\n",
    "def get_closest_results(query: str) -> str:\n",
    "    embeddings = HuggingFaceEmbeddings()\n",
    "\n",
    "    relevant_snippets = []\n",
    "\n",
    "    min_snippets = 1\n",
    "    max_snippets = 5\n",
    "    max_vector_store = 20\n",
    "\n",
    "    vectorstore = FAISS.from_texts(\n",
    "        corpus, embeddings)\n",
    "\n",
    "    return [i.page_content for i in vectorstore.similarity_search(\n",
    "        query, k=1)]\n",
    "\n",
    "\n",
    "get_closest_results(\"I wish I would speak better\")"
   ]
  },
  {
   "attachments": {},
   "cell_type": "markdown",
   "metadata": {},
   "source": [
    "# End of notebook"
   ]
  }
 ],
 "metadata": {
  "kernelspec": {
   "display_name": "nlp",
   "language": "python",
   "name": "nlp"
  },
  "language_info": {
   "codemirror_mode": {
    "name": "ipython",
    "version": 3
   },
   "file_extension": ".py",
   "mimetype": "text/x-python",
   "name": "python",
   "nbconvert_exporter": "python",
   "pygments_lexer": "ipython3",
   "version": "3.10.6"
  },
  "orig_nbformat": 4,
  "vscode": {
   "interpreter": {
    "hash": "7e1998ff7f8aa20ada591c520b972326324e5ea05489af9e422744c7c09f6dad"
   }
  }
 },
 "nbformat": 4,
 "nbformat_minor": 2
}
